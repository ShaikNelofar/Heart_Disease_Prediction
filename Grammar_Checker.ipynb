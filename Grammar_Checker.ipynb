{
  "nbformat": 4,
  "nbformat_minor": 0,
  "metadata": {
    "colab": {
      "provenance": []
    },
    "kernelspec": {
      "name": "python3",
      "display_name": "Python 3"
    },
    "language_info": {
      "name": "python"
    }
  },
  "cells": [
    {
      "cell_type": "code",
      "execution_count": 1,
      "metadata": {
        "colab": {
          "base_uri": "https://localhost:8080/"
        },
        "id": "NSmGyF1sWQqM",
        "outputId": "8da7d846-5e68-4277-99fb-2d0fc08eec5f"
      },
      "outputs": [
        {
          "output_type": "stream",
          "name": "stdout",
          "text": [
            "Collecting language-tool-python\n",
            "  Downloading language_tool_python-2.7.1-py3-none-any.whl (34 kB)\n",
            "Requirement already satisfied: requests in /usr/local/lib/python3.10/dist-packages (from language-tool-python) (2.27.1)\n",
            "Requirement already satisfied: tqdm in /usr/local/lib/python3.10/dist-packages (from language-tool-python) (4.65.0)\n",
            "Requirement already satisfied: urllib3<1.27,>=1.21.1 in /usr/local/lib/python3.10/dist-packages (from requests->language-tool-python) (1.26.16)\n",
            "Requirement already satisfied: certifi>=2017.4.17 in /usr/local/lib/python3.10/dist-packages (from requests->language-tool-python) (2023.5.7)\n",
            "Requirement already satisfied: charset-normalizer~=2.0.0 in /usr/local/lib/python3.10/dist-packages (from requests->language-tool-python) (2.0.12)\n",
            "Requirement already satisfied: idna<4,>=2.5 in /usr/local/lib/python3.10/dist-packages (from requests->language-tool-python) (3.4)\n",
            "Installing collected packages: language-tool-python\n",
            "Successfully installed language-tool-python-2.7.1\n"
          ]
        }
      ],
      "source": [
        "!pip install language-tool-python"
      ]
    },
    {
      "cell_type": "code",
      "source": [
        "import language_tool_python"
      ],
      "metadata": {
        "id": "s_GGG_qHWk48"
      },
      "execution_count": 2,
      "outputs": []
    },
    {
      "cell_type": "code",
      "source": [
        "# using the tool\n",
        "my_tool = language_tool_python.LanguageTool('en-US')\n",
        "\n",
        "# given text\n",
        "my_text = \"\"\"LanguageTool provides utility to check grammar and spelling errors. We just have to paste the text here and click the 'Check Text' button.\n",
        "             Click the colored phrases for for information on potential errors. orwe can use this text too see an some of the issues that LanguageTool can dedect.\n",
        "              Whot do someone thinks of grammar checkers? Please not that they are not perfect.\n",
        "             Style problems get a blue marker: It is 7 P.M. in the evening. The weather was nice on Monday, 22 November 2021\"\"\"\n",
        "\n",
        "# getting the matches\n",
        "my_matches = my_tool. check(my_text)\n",
        "my_matches\n",
        "\n"
      ],
      "metadata": {
        "colab": {
          "base_uri": "https://localhost:8080/"
        },
        "id": "2FNR0PpCWts3",
        "outputId": "fd5d8c78-46d5-4612-bfce-15ce4775d89b"
      },
      "execution_count": 33,
      "outputs": [
        {
          "output_type": "execute_result",
          "data": {
            "text/plain": [
              "[Match({'ruleId': 'WHITESPACE_RULE', 'message': 'Possible typo: you repeated a whitespace', 'replacements': [' '], 'offsetInContext': 43, 'context': \"...here and click the 'Check Text' button.              Click the colored phrases for for inform...\", 'offset': 139, 'errorLength': 13, 'category': 'TYPOGRAPHY', 'ruleIssueType': 'whitespace', 'sentence': 'Click the colored phrases for for information on potential errors.'}),\n",
              " Match({'ruleId': 'ENGLISH_WORD_REPEAT_RULE', 'message': 'Possible typo: you repeated a word', 'replacements': ['for'], 'offsetInContext': 43, 'context': '...              Click the colored phrases for for information on potential errors. orwe c...', 'offset': 178, 'errorLength': 7, 'category': 'MISC', 'ruleIssueType': 'duplication', 'sentence': 'Click the colored phrases for for information on potential errors.'}),\n",
              " Match({'ruleId': 'UPPERCASE_SENTENCE_START', 'message': 'This sentence does not start with an uppercase letter.', 'replacements': ['Orwe'], 'offsetInContext': 43, 'context': '...or for information on potential errors. orwe can use this text too see an some of th...', 'offset': 219, 'errorLength': 4, 'category': 'CASING', 'ruleIssueType': 'typographical', 'sentence': 'orwe can use this text too see an some of the issues that LanguageTool can dedect.'}),\n",
              " Match({'ruleId': 'TOO_TO', 'message': 'Did you mean “to see”?', 'replacements': ['to see'], 'offsetInContext': 43, 'context': '...otential errors. orwe can use this text too see an some of the issues that LanguageTool...', 'offset': 242, 'errorLength': 7, 'category': 'CONFUSED_WORDS', 'ruleIssueType': 'misspelling', 'sentence': 'orwe can use this text too see an some of the issues that LanguageTool can dedect.'}),\n",
              " Match({'ruleId': 'EN_A_VS_AN', 'message': 'Use “a” instead of ‘an’ if the following word doesn’t start with a vowel sound, e.g. ‘a sentence’, ‘a university’.', 'replacements': ['a'], 'offsetInContext': 43, 'context': '... errors. orwe can use this text too see an some of the issues that LanguageTool ca...', 'offset': 250, 'errorLength': 2, 'category': 'MISC', 'ruleIssueType': 'misspelling', 'sentence': 'orwe can use this text too see an some of the issues that LanguageTool can dedect.'}),\n",
              " Match({'ruleId': 'MORFOLOGIK_RULE_EN_US', 'message': 'Possible spelling mistake found.', 'replacements': ['detect', 'defect', 'deduct', 'deject'], 'offsetInContext': 43, 'context': '...ome of the issues that LanguageTool can dedect.               Whot do someone thinks o...', 'offset': 294, 'errorLength': 6, 'category': 'TYPOS', 'ruleIssueType': 'misspelling', 'sentence': 'orwe can use this text too see an some of the issues that LanguageTool can dedect.'}),\n",
              " Match({'ruleId': 'WHITESPACE_RULE', 'message': 'Possible typo: you repeated a whitespace', 'replacements': [' '], 'offsetInContext': 43, 'context': '...he issues that LanguageTool can dedect.               Whot do someone thinks of grammar checke...', 'offset': 302, 'errorLength': 14, 'category': 'TYPOGRAPHY', 'ruleIssueType': 'whitespace', 'sentence': 'Whot do someone thinks of grammar checkers?'}),\n",
              " Match({'ruleId': 'MORFOLOGIK_RULE_EN_US', 'message': 'Possible spelling mistake found.', 'replacements': ['Who', 'What', 'Shot', 'Whom', 'Hot', 'WHO', 'Whet', 'Whit', 'Whoa', 'Whop', 'WHT', 'Wot', 'W hot'], 'offsetInContext': 43, 'context': '... LanguageTool can dedect.               Whot do someone thinks of grammar checkers? ...', 'offset': 316, 'errorLength': 4, 'category': 'TYPOS', 'ruleIssueType': 'misspelling', 'sentence': 'Whot do someone thinks of grammar checkers?'}),\n",
              " Match({'ruleId': 'PLEASE_NOT_THAT', 'message': 'Did you mean “note”?', 'replacements': ['note'], 'offsetInContext': 43, 'context': '...eone thinks of grammar checkers? Please not that they are not perfect.             ...', 'offset': 367, 'errorLength': 3, 'category': 'TYPOS', 'ruleIssueType': 'misspelling', 'sentence': 'Please not that they are not perfect. \\n             Style problems get a blue marker: It is 7 P.M. in the evening.'}),\n",
              " Match({'ruleId': 'PM_IN_THE_EVENING', 'message': 'This is redundant. Consider using “P.M.”', 'replacements': ['P.M.'], 'offsetInContext': 43, 'context': '...yle problems get a blue marker: It is 7 P.M. in the evening. The weather was nice on Monday, 22 Nov...', 'offset': 454, 'errorLength': 19, 'category': 'REDUNDANCY', 'ruleIssueType': 'style', 'sentence': 'Please not that they are not perfect. \\n             Style problems get a blue marker: It is 7 P.M. in the evening.'})]"
            ]
          },
          "metadata": {},
          "execution_count": 33
        }
      ]
    },
    {
      "cell_type": "code",
      "source": [
        "myMistakes = []\n",
        "myCorrections = []\n",
        "startPositions = []\n",
        "endPositions = []\n",
        "\n",
        "# using the for-loop\n",
        "for rules in my_matches:\n",
        "    if len(rules.replacements) > 0:\n",
        "        startPositions.append(rules.offset)\n",
        "        endPositions.append(rules.errorLength + rules.offset)\n",
        "        myMistakes.append(my_text[rules.offset : rules.errorLength + rules.offset])\n",
        "        myCorrections.append(rules.replacements[0])\n",
        "my_NewText = list(my_text) #creating new text\n",
        "\n",
        "# rewriting the correct passage\n",
        "for n in range(len(startPositions)):\n",
        "    for i in range(len(my_text)):\n",
        "        my_NewText[startPositions[n]] = myCorrections[n]\n",
        "        if (i > startPositions[n] and i < endPositions[n]):\n",
        "            my_NewText[i] = \"\"\n",
        "\n",
        "my_NewText = \"\".join(my_NewText)\n",
        "\n",
        "print(\"original text : \",my_text)\n",
        "# printing the text\n",
        "print(\"Corrected text : \",my_NewText)"
      ],
      "metadata": {
        "colab": {
          "base_uri": "https://localhost:8080/"
        },
        "id": "sllusk-AY0o3",
        "outputId": "d10e97ea-d84d-4746-fec7-77bde18c7cf8"
      },
      "execution_count": 34,
      "outputs": [
        {
          "output_type": "stream",
          "name": "stdout",
          "text": [
            "original text :  LanguageTool provides utility to check grammar and spelling errors. We just have to paste the text here and click the 'Check Text' button.\n",
            "             Click the colored phrases for for information on potential errors. orwe can use this text too see an some of the issues that LanguageTool can dedect.\n",
            "              Whot do someone thinks of grammar checkers? Please not that they are not perfect. \n",
            "             Style problems get a blue marker: It is 7 P.M. in the evening. The weather was nice on Monday, 22 November 2021\n",
            "Corrected text :  LanguageTool provides utility to check grammar and spelling errors. We just have to paste the text here and click the 'Check Text' button.\n",
            " Click the colored phrases for information on potential errors. Orwe can use this text to see a some of the issues that LanguageTool can detect.\n",
            " Who do someone thinks of grammar checkers? Please note that they are not perfect. \n",
            "             Style problems get a blue marker: It is 7 P.M.. The weather was nice on Monday, 22 November 2021\n"
          ]
        }
      ]
    }
  ]
}